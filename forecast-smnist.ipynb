{
 "cells": [
  {
   "cell_type": "code",
   "execution_count": null,
   "metadata": {},
   "outputs": [],
   "source": [
    "import math\n",
    "import numpy as np\n",
    "import torch\n",
    "import torch.nn as nn\n",
    "import torch.nn.functional as F\n",
    "from torch.autograd import Variable\n",
    "import random\n",
    "from dataset import *\n",
    "import gc\n",
    "from model import *"
   ]
  },
  {
   "cell_type": "code",
   "execution_count": null,
   "metadata": {},
   "outputs": [],
   "source": [
    "class Args:\n",
    "    def __init__(self):\n",
    "        self.gpu = 1\n",
    "        self.run_label = 0\n",
    "        self.feat_size = 128\n",
    "        self.batch_size = 8\n",
    "        self.q_learning_rate = 1e-2\n",
    "        self.n_sample = 1024\n",
    "        self.n_future = 10\n",
    "        self.n_past = 2\n",
    "        self.predictor_model = 'big'\n",
    "        self.log_root = '/data/hdim-forecast/log3'\n",
    "        \n",
    "args = Args()\n",
    "device = torch.device('cuda:%d' % args.gpu)\n",
    "args.device = device"
   ]
  },
  {
   "cell_type": "code",
   "execution_count": null,
   "metadata": {},
   "outputs": [],
   "source": [
    "while True:\n",
    "    args.name = 'pred=%s-seq=%d/%d-ns=%d-feat_size=%d-bs=%d-qlr=%.5f-run=%d' % \\\n",
    "        (args.predictor_model, args.n_past, args.n_future, args.n_sample, args.feat_size, \n",
    "         args.batch_size, args.q_learning_rate, args.run_label)\n",
    "    args.log_dir = os.path.join(self.log_root, args.name)\n",
    "    if not os.path.isdir(args.log_dir):\n",
    "        os.makedirs(args.log_dir)\n",
    "        break\n",
    "    args.run_label += 1\n",
    "print(\"Run number = %d\" % args.run_label)\n",
    "writer = SummaryWriter(args.log_dir)\n",
    "log_writer = open(os.path.join(args.log_dir, 'results.txt'), 'w')\n",
    "\n",
    "start_time = time.time()\n",
    "global_iteration = 0\n",
    "random.seed(args.run_label)  # Set a different random seed for different run labels\n",
    "torch.manual_seed(args.run_label)\n",
    "    \n",
    "def log_scalar(name, value, epoch):\n",
    "    writer.add_scalar(name, value, epoch)\n",
    "    log_writer.write('%f ' % value)\n",
    "    \n",
    "def message(epoch):\n",
    "    print(\"Finished epoch %d, time elapsed %.1f\" % (epoch, time.time() - start_time))"
   ]
  },
  {
   "cell_type": "code",
   "execution_count": null,
   "metadata": {},
   "outputs": [],
   "source": [
    "feat_model = FeatureNetC(args.feat_size)\n",
    "feat_model.load_state_dict(torch.load('pretrained/representation-c-%d.pt' % args.feat_size), strict=False)\n",
    "feat_model = feat_model.to(device)\n",
    "feat_model.eval()"
   ]
  },
  {
   "cell_type": "code",
   "execution_count": null,
   "metadata": {},
   "outputs": [],
   "source": [
    "multi_dataset = MovingMNISTMulti(train=True, n_past=args.n_past, n_future=args.n_future, n_sample=args.n_sample, deterministic=False, last_only=True)\n",
    "multi_loader = DataLoader(multi_dataset, batch_size=args.batch_size, shuffle=True, num_workers=args.batch_size)"
   ]
  },
  {
   "cell_type": "code",
   "execution_count": null,
   "metadata": {},
   "outputs": [],
   "source": [
    "predictor = predictors[args.predictor_model](args.feat_size).to(device)"
   ]
  },
  {
   "cell_type": "code",
   "execution_count": null,
   "metadata": {},
   "outputs": [],
   "source": [
    "predictor.load_state_dict(torch.load('pretrained/predictor_128-10-big.pt'))"
   ]
  },
  {
   "cell_type": "code",
   "execution_count": null,
   "metadata": {},
   "outputs": [],
   "source": [
    "# Design a set of query functions, each query function should be a map from [batch_size, 1, 64, 64] tensor into a real number\n",
    "intensity = [\n",
    "    lambda x: x[:, 0, :32, :].mean(dim=(1, 2)) - x[:, 0, 32:, :].mean(dim=(1, 2)),\n",
    "    lambda x: x[:, 0, :, :32].mean(dim=(1, 2)) - x[:, 0, :, 32:].mean(dim=(1, 2))\n",
    "]\n",
    "\n",
    "def get_func(left, right): \n",
    "    return lambda x: x[:, 0, left:left+32, right:right+32].mean(dim=(1, 2)) \n",
    "    \n",
    "has_digit = [get_func(left, right) for left in [0, 16, 32] for right in [0, 16, 32]]\n",
    "\n",
    "queries_all = intensity + has_digit"
   ]
  },
  {
   "cell_type": "code",
   "execution_count": null,
   "metadata": {},
   "outputs": [],
   "source": [
    "sampler = Sampler(device=device, batch_size=args.batch_size)"
   ]
  },
  {
   "cell_type": "raw",
   "metadata": {},
   "source": [
    "# [self.n_past, batch_size, 1, 64, 64]\n",
    "with torch.no_grad():\n",
    "    samples = sampler.simulate(bx[:, :2].to(device).permute(1, 0, 2, 3, 4), n_sample=100, n_future=10)\n"
   ]
  },
  {
   "cell_type": "raw",
   "metadata": {},
   "source": [
    "from matplotlib import pyplot as plt\n",
    "%matplotlib inline\n",
    "plt.figure(figsize=(12, 10))\n",
    "for i in range(10):\n",
    "    for j in range(12):\n",
    "        plt.subplot(10, 12, i*12+j+1)\n",
    "        plt.imshow(samples[i, j, 0, 0].cpu())\n",
    "        plt.axis('off')\n",
    "plt.show()"
   ]
  },
  {
   "cell_type": "code",
   "execution_count": 21,
   "metadata": {},
   "outputs": [
    {
     "name": "stdout",
     "output_type": "stream",
     "text": [
      "Finished epoch 382, time elapsed 46865.7\n"
     ]
    },
    {
     "ename": "KeyboardInterrupt",
     "evalue": "",
     "output_type": "error",
     "traceback": [
      "\u001b[0;31m---------------------------------------------------------------------------\u001b[0m",
      "\u001b[0;31mKeyboardInterrupt\u001b[0m                         Traceback (most recent call last)",
      "\u001b[0;32m<ipython-input-21-6bacaf1afec7>\u001b[0m in \u001b[0;36m<module>\u001b[0;34m\u001b[0m\n\u001b[1;32m     37\u001b[0m         \u001b[0;32mfor\u001b[0m \u001b[0mqiter\u001b[0m \u001b[0;32min\u001b[0m \u001b[0mrange\u001b[0m\u001b[0;34m(\u001b[0m\u001b[0;36m5000\u001b[0m\u001b[0;34m)\u001b[0m\u001b[0;34m:\u001b[0m\u001b[0;34m\u001b[0m\u001b[0;34m\u001b[0m\u001b[0m\n\u001b[1;32m     38\u001b[0m             \u001b[0malpha_optim\u001b[0m\u001b[0;34m.\u001b[0m\u001b[0mzero_grad\u001b[0m\u001b[0;34m(\u001b[0m\u001b[0;34m)\u001b[0m\u001b[0;34m\u001b[0m\u001b[0;34m\u001b[0m\u001b[0m\n\u001b[0;32m---> 39\u001b[0;31m             \u001b[0mloss_q\u001b[0m \u001b[0;34m=\u001b[0m \u001b[0;34m(\u001b[0m\u001b[0msim_val\u001b[0m \u001b[0;34m-\u001b[0m \u001b[0;34m(\u001b[0m\u001b[0msim_feat\u001b[0m \u001b[0;34m*\u001b[0m \u001b[0malpha\u001b[0m\u001b[0;34m)\u001b[0m\u001b[0;34m.\u001b[0m\u001b[0mmean\u001b[0m\u001b[0;34m(\u001b[0m\u001b[0mdim\u001b[0m\u001b[0;34m=\u001b[0m\u001b[0;36m2\u001b[0m\u001b[0;34m)\u001b[0m\u001b[0;34m)\u001b[0m\u001b[0;34m.\u001b[0m\u001b[0mabs\u001b[0m\u001b[0;34m(\u001b[0m\u001b[0;34m)\u001b[0m\u001b[0;34m.\u001b[0m\u001b[0mmean\u001b[0m\u001b[0;34m(\u001b[0m\u001b[0;34m)\u001b[0m\u001b[0;34m\u001b[0m\u001b[0;34m\u001b[0m\u001b[0m\n\u001b[0m\u001b[1;32m     40\u001b[0m             \u001b[0;31m# print(query(bx[:, 10]))\u001b[0m\u001b[0;34m\u001b[0m\u001b[0;34m\u001b[0m\u001b[0;34m\u001b[0m\u001b[0m\n\u001b[1;32m     41\u001b[0m             \u001b[0;31m# print((feat_model(bx[:, 10]) * alpha).mean(dim=1))\u001b[0m\u001b[0;34m\u001b[0m\u001b[0;34m\u001b[0m\u001b[0;34m\u001b[0m\u001b[0m\n",
      "\u001b[0;31mKeyboardInterrupt\u001b[0m: "
     ]
    }
   ],
   "source": [
    "mb_size = 16\n",
    "assert args.n_sample % mb_size == 0\n",
    "err_sim = []\n",
    "err_combo = []\n",
    "err_feat = []\n",
    "\n",
    "arr_sim, arr_pred, arr_pred_true, arr_residue, arr_residue_true = [], [], [], [], []\n",
    "\n",
    "for idx, data in enumerate(multi_loader):\n",
    "    bx, by, bl = data\n",
    "    bx = bx.to(device).permute(1, 0, 2, 3, 4, 5)\n",
    "    # print(bx.shape)\n",
    "    with torch.no_grad():\n",
    "        # Run the simulation over multiple batches to avoid memory overflow\n",
    "        sim_bx = torch.zeros((args.n_sample, args.batch_size, 1, 64, 64)).to(device)\n",
    "        sim_feat = torch.zeros((args.n_sample, args.batch_size, args.feat_size)).to(device)\n",
    "        true_feat = torch.zeros((args.n_sample, args.batch_size, args.feat_size)).to(device)\n",
    "        for rep in range(args.n_sample // mb_size):\n",
    "            bx_in = bx[0, :, :2].to(device).permute(1, 0, 2, 3, 4)\n",
    "            # print(bx_in.shape)\n",
    "            sim_bx[rep*mb_size:(rep+1)*mb_size] = sampler.simulate(bx_in, n_sample=mb_size, n_future=args.n_future)[:, -1]\n",
    "            # print(simulated_bx.shape)\n",
    "            sim_feat[rep*mb_size:(rep+1)*mb_size] = feat_model(sim_bx[rep*mb_size:(rep+1)*mb_size].reshape(-1, 1, 64, 64)).view(\n",
    "                mb_size, args.batch_size, args.feat_size)\n",
    "            # print(feat.shape)\n",
    "            bx_in = bx[rep*mb_size:(rep+1)*mb_size, :, -1].reshape(-1, 1, 64, 64)\n",
    "            # print(bx_in.shape)\n",
    "            true_feat[rep*mb_size:(rep+1)*mb_size] = feat_model(bx_in).view(mb_size, args.batch_size, args.feat_size)\n",
    "            #    args.mbatch_size, mb_size, args.feat_size)\n",
    "            # Warning: to check that these reshapes didn't mess up ordering\n",
    "    for q_index, query in enumerate(queries_all):\n",
    "        alpha = torch.randn([1, args.batch_size, args.feat_size], requires_grad=True, device=device)\n",
    "        alpha_optim = optim.Adam([alpha], lr=args.q_learning_rate)\n",
    "\n",
    "        sim_val = query(sim_bx.reshape(-1, 1, 64, 64)).view(args.n_sample, args.batch_size)\n",
    "\n",
    "        for qiter in range(5000):\n",
    "            alpha_optim.zero_grad()\n",
    "            loss_q = (sim_val - (sim_feat * alpha).mean(dim=2)).abs().mean()\n",
    "            # print(query(bx[:, 10]))\n",
    "            # print((feat_model(bx[:, 10]) * alpha).mean(dim=1))\n",
    "            loss_q.backward()\n",
    "            alpha_optim.step()\n",
    "            writer.add_scalar('loss_q_%d' % q_index, loss_q, qiter)\n",
    "\n",
    "        # Compute the expectation if we were to use the simulated data only\n",
    "        with torch.no_grad():\n",
    "            # Expectation according to future simulations\n",
    "            sim_exp = sim_val.mean(dim=0)\n",
    "            # print(sim_exp.shape)\n",
    "            # Expectation of the features\n",
    "            # print(predictor(bx[0, :, 0:2]).shape)\n",
    "            pred_exp_feat = (predictor(bx[0, :, 0:2]) * alpha[0]).mean(dim=1)\n",
    "            residue_exp = (sim_val - (sim_feat * alpha).mean(dim=2)).mean(dim=0)\n",
    "            combo_exp = pred_exp_feat + residue_exp\n",
    "\n",
    "            true_exp = query(bx[:, :, -1].reshape(-1, 1, 64, 64)).view(args.n_sample, args.batch_size).mean(dim=0)\n",
    "            true_exp_feat = (true_feat.mean(dim=0) * alpha[0]).mean(dim=1)\n",
    "            true_exp_residue = true_exp - true_exp_feat \n",
    "            \n",
    "            err_sim.append(sim_exp - true_exp)\n",
    "            err_combo.append(combo_exp - true_exp)\n",
    "            err_feat.append(pred_exp_feat - true_exp_feat)\n",
    "            \n",
    "            arr_residue.append(residue_exp)\n",
    "            arr_pred.append(pred_exp_feat)\n",
    "            arr_sim.append(sim_exp)\n",
    "            arr_pred_true.append(true_exp_feat)\n",
    "            arr_residue_true.append(true_exp_residue)\n",
    "            \n",
    "    message(idx)\n",
    "    global_iteration += 1\n"
   ]
  },
  {
   "cell_type": "code",
   "execution_count": 22,
   "metadata": {},
   "outputs": [],
   "source": [
    "err_sim = torch.cat(err_sim).cpu().numpy()\n",
    "err_combo = torch.cat(err_combo).cpu().numpy()\n",
    "err_feat = torch.cat(err_feat).cpu().numpy()"
   ]
  },
  {
   "cell_type": "code",
   "execution_count": 23,
   "metadata": {},
   "outputs": [],
   "source": [
    "arr_residue = torch.cat(arr_residue).cpu().numpy()\n",
    "arr_pred = torch.cat(arr_pred).cpu().numpy()\n",
    "arr_pred_true = torch.cat(arr_pred_true).cpu().numpy()\n",
    "arr_sim = torch.cat(arr_sim).cpu().numpy()\n",
    "arr_residue_true = torch.cat(arr_residue_true).cpu().numpy()"
   ]
  },
  {
   "cell_type": "code",
   "execution_count": 36,
   "metadata": {},
   "outputs": [
    {
     "name": "stdout",
     "output_type": "stream",
     "text": [
      "0.051168755 0.022871403 0.02296032\n"
     ]
    }
   ],
   "source": [
    "print(np.mean(np.abs(err_sim)), np.mean(np.abs(err_combo)), np.mean(np.abs(err_pred)))"
   ]
  },
  {
   "cell_type": "code",
   "execution_count": 35,
   "metadata": {},
   "outputs": [],
   "source": [
    "err_combo_alt = (arr_residue_true - arr_residue) + (arr_pred_true - arr_pred) \n",
    "err_pred = (arr_pred_true + arr_residue_true) - arr_pred"
   ]
  },
  {
   "cell_type": "code",
   "execution_count": 34,
   "metadata": {},
   "outputs": [
    {
     "data": {
      "image/png": "[encoded data removed]",
      "text/plain": [
       "<Figure size 432x288 with 1 Axes>"
      ]
     },
     "metadata": {
      "needs_background": "light"
     },
     "output_type": "display_data"
    }
   ],
   "source": [
    "plt.hist(err_sim, bins=40, alpha=0.5, color='b', label='simulated')\n",
    "plt.hist(err_combo, bins=40, alpha=0.5, color='r', label='combo')\n",
    "plt.hist(, bins=40, color='g', alpha=0.5, label='pred')\n",
    "# plt.hist(err_combo_alt, bins=40, alpha=0.5, color='g', label='')\n",
    "plt.legend()\n",
    "plt.show()"
   ]
  },
  {
   "cell_type": "code",
   "execution_count": null,
   "metadata": {},
   "outputs": [],
   "source": []
  },
  {
   "cell_type": "code",
   "execution_count": 28,
   "metadata": {},
   "outputs": [
    {
     "data": {
      "image/png": "[encoded data removed]",
      "text/plain": [
       "<Figure size 432x288 with 1 Axes>"
      ]
     },
     "metadata": {
      "needs_background": "light"
     },
     "output_type": "display_data"
    }
   ],
   "source": [
    "# plt.hist(arr_residue.cpu().numpy(), bins=20, alpha=0.5)\n",
    "plt.hist(arr_pred, bins=40, alpha=0.5, color='r')\n",
    "plt.hist(arr_pred_true, bins=40, alpha=0.5, color='g')\n",
    "plt.hist(arr_pred - arr_pred_true, bins=40, alpha=0.5, color='b')\n",
    "\n",
    "plt.hist(arr_residue_true, bins=40, alpha=0.5, color='m')\n",
    "plt.show()"
   ]
  },
  {
   "cell_type": "raw",
   "metadata": {},
   "source": [
    "plt.figure(figsize=(30, 30))\n",
    "for rep in range(10):\n",
    "    for t in range(12):\n",
    "        plt.subplot(20, 12, rep*24+t+1)\n",
    "        plt.imshow(bx[0, rep, t, 0].cpu())\n",
    "        plt.axis('off')\n",
    "        plt.subplot(20, 12, rep*24+12+t+1)\n",
    "        plt.imshow(simulated_bx[rep, t, 0, 0].cpu())\n",
    "        plt.axis('off')\n",
    "plt.show()"
   ]
  },
  {
   "cell_type": "code",
   "execution_count": null,
   "metadata": {},
   "outputs": [],
   "source": [
    "import seaborn as sns\n",
    "multi_dataset.set_nsample(args.n_sample)\n",
    "plt.figure(figsize=(20, 20))\n",
    "palette = sns.color_palette('hls', 5)\n",
    "with torch.no_grad():\n",
    "    for idx, data in enumerate(multi_loader):\n",
    "        bx, by, bl = data\n",
    "        bx = bx.to(device)\n",
    "\n",
    "        actual_feat = feat_model(bx[:, :, -1].view(-1, 1, 64, 64)).view(8, args.n_sample, args.feat_size)\n",
    "        actual_exp = actual_feat.mean(dim=1)\n",
    "        pred_exp = predictor(bx[:, 0, 0:2])\n",
    "        \n",
    "        for i in range(36):\n",
    "            plt.subplot(6, 6, i+1)\n",
    "            plt.hist(actual_feat[0, :, i].cpu().numpy(), bins=20, color=palette[idx], alpha=0.5)\n",
    "            plt.axvline(pred_exp[0, i], color=palette[idx])\n",
    "            plt.axvline(actual_exp[0, i], color=palette[idx], linestyle=':')\n",
    "        if idx == 4:\n",
    "            break\n",
    "plt.show()"
   ]
  },
  {
   "cell_type": "code",
   "execution_count": null,
   "metadata": {},
   "outputs": [],
   "source": []
  }
 ],
 "metadata": {
  "kernelspec": {
   "display_name": "Python 3",
   "language": "python",
   "name": "python3"
  },
  "language_info": {
   "codemirror_mode": {
    "name": "ipython",
    "version": 3
   },
   "file_extension": ".py",
   "mimetype": "text/x-python",
   "name": "python",
   "nbconvert_exporter": "python",
   "pygments_lexer": "ipython3",
   "version": "3.6.12"
  }
 },
 "nbformat": 4,
 "nbformat_minor": 4
}

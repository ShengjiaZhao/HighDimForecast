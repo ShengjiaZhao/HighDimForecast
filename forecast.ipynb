{
 "cells": [
  {
   "cell_type": "code",
   "execution_count": 1,
   "metadata": {},
   "outputs": [],
   "source": [
    "import math\n",
    "import numpy as np\n",
    "import torch\n",
    "import torch.nn as nn\n",
    "import torch.nn.functional as F\n",
    "from torch.autograd import Variable\n",
    "import random\n",
    "from dataset import *\n",
    "import gc\n",
    "from model import *"
   ]
  },
  {
   "cell_type": "code",
   "execution_count": 2,
   "metadata": {},
   "outputs": [],
   "source": [
    "class Args:\n",
    "    def __init__(self):\n",
    "        self.gpu = 1\n",
    "        self.run_label = 0\n",
    "        self.feat_size = 128\n",
    "        self.batch_size = 8\n",
    "        self.q_learning_rate = 1e-2\n",
    "        self.n_sample = 1024\n",
    "        self.n_future = 10\n",
    "        self.n_past = 2\n",
    "        self.predictor_model = 'big'\n",
    "        self.log_root = '/data/hdim-forecast/log3'\n",
    "        \n",
    "args = Args()\n",
    "device = torch.device('cuda:%d' % args.gpu)\n",
    "args.device = device"
   ]
  },
  {
   "cell_type": "code",
   "execution_count": 3,
   "metadata": {},
   "outputs": [
    {
     "name": "stdout",
     "output_type": "stream",
     "text": [
      "Run number = 1\n"
     ]
    }
   ],
   "source": [
    "while True:\n",
    "    args.name = 'pred=%s-seq=%d/%d-ns=%d-feat_size=%d-bs=%d-qlr=%.5f-run=%d' % \\\n",
    "        (args.predictor_model, args.n_past, args.n_future, args.n_sample, args.feat_size, \n",
    "         args.batch_size, args.q_learning_rate, args.run_label)\n",
    "    args.log_dir = os.path.join(self.log_root, args.name)\n",
    "    if not os.path.isdir(args.log_dir):\n",
    "        os.makedirs(args.log_dir)\n",
    "        break\n",
    "    args.run_label += 1\n",
    "print(\"Run number = %d\" % args.run_label)\n",
    "writer = SummaryWriter(args.log_dir)\n",
    "log_writer = open(os.path.join(args.log_dir, 'results.txt'), 'w')\n",
    "\n",
    "start_time = time.time()\n",
    "global_iteration = 0\n",
    "random.seed(args.run_label)  # Set a different random seed for different run labels\n",
    "torch.manual_seed(args.run_label)\n",
    "    \n",
    "def log_scalar(name, value, epoch):\n",
    "    writer.add_scalar(name, value, epoch)\n",
    "    log_writer.write('%f ' % value)\n",
    "    \n",
    "def message(epoch):\n",
    "    print(\"Finished epoch %d, time elapsed %.1f\" % (epoch, time.time() - start_time))"
   ]
  },
  {
   "cell_type": "code",
   "execution_count": 4,
   "metadata": {},
   "outputs": [
    {
     "data": {
      "text/plain": [
       "FeatureNetC(\n",
       "  (conv1): Conv2d(1, 32, kernel_size=(3, 3), stride=(1, 1))\n",
       "  (conv2): Conv2d(32, 32, kernel_size=(3, 3), stride=(2, 2))\n",
       "  (conv3): Conv2d(32, 64, kernel_size=(3, 3), stride=(1, 1))\n",
       "  (conv4): Conv2d(64, 64, kernel_size=(3, 3), stride=(2, 2))\n",
       "  (conv5): Conv2d(64, 128, kernel_size=(3, 3), stride=(2, 2))\n",
       "  (fc1): Linear(in_features=4608, out_features=512, bias=True)\n",
       "  (fc2): Linear(in_features=512, out_features=128, bias=True)\n",
       "  (fc3): Linear(in_features=128, out_features=14, bias=True)\n",
       ")"
      ]
     },
     "execution_count": 4,
     "metadata": {},
     "output_type": "execute_result"
    }
   ],
   "source": [
    "feat_model = FeatureNetC(args.feat_size)\n",
    "feat_model.load_state_dict(torch.load('pretrained/representation-c-%d.pt' % args.feat_size), strict=False)\n",
    "feat_model = feat_model.to(device)\n",
    "feat_model.eval()"
   ]
  },
  {
   "cell_type": "code",
   "execution_count": 5,
   "metadata": {},
   "outputs": [
    {
     "name": "stderr",
     "output_type": "stream",
     "text": [
      "/usr/local/lib/python3.6/dist-packages/torchvision/transforms/transforms.py:211: UserWarning: The use of the transforms.Scale transform is deprecated, please use transforms.Resize instead.\n",
      "  \"please use transforms.Resize instead.\")\n"
     ]
    }
   ],
   "source": [
    "multi_dataset = MovingMNISTMulti(train=True, n_past=args.n_past, n_future=args.n_future, n_sample=args.n_sample, deterministic=False, last_only=True)\n",
    "multi_loader = DataLoader(multi_dataset, batch_size=args.batch_size, shuffle=True, num_workers=args.batch_size)"
   ]
  },
  {
   "cell_type": "code",
   "execution_count": 6,
   "metadata": {},
   "outputs": [],
   "source": [
    "predictor = predictors[args.predictor_model](args.feat_size).to(device)"
   ]
  },
  {
   "cell_type": "code",
   "execution_count": 7,
   "metadata": {},
   "outputs": [
    {
     "data": {
      "text/plain": [
       "<All keys matched successfully>"
      ]
     },
     "execution_count": 7,
     "metadata": {},
     "output_type": "execute_result"
    }
   ],
   "source": [
    "predictor.load_state_dict(torch.load('pretrained/predictor_128-10-big.pt'))"
   ]
  },
  {
   "cell_type": "code",
   "execution_count": 8,
   "metadata": {},
   "outputs": [],
   "source": [
    "# Design a set of query functions, each query function should be a map from [batch_size, 1, 64, 64] tensor into a real number\n",
    "intensity = [\n",
    "    lambda x: x[:, 0, :32, :].mean(dim=(1, 2)) - x[:, 0, 32:, :].mean(dim=(1, 2)),\n",
    "    lambda x: x[:, 0, :, :32].mean(dim=(1, 2)) - x[:, 0, :, 32:].mean(dim=(1, 2))\n",
    "]\n",
    "\n",
    "def get_func(left, right): \n",
    "    return lambda x: x[:, 0, left:left+32, right:right+32].mean(dim=(1, 2)) \n",
    "    \n",
    "has_digit = [get_func(left, right) for left in [0, 16, 32] for right in [0, 16, 32]]\n",
    "\n",
    "queries_all = intensity + has_digit"
   ]
  },
  {
   "cell_type": "code",
   "execution_count": 10,
   "metadata": {},
   "outputs": [],
   "source": [
    "sampler = Sampler(device=device, batch_size=args.batch_size)"
   ]
  },
  {
   "cell_type": "raw",
   "metadata": {},
   "source": [
    "# [self.n_past, batch_size, 1, 64, 64]\n",
    "with torch.no_grad():\n",
    "    samples = sampler.simulate(bx[:, :2].to(device).permute(1, 0, 2, 3, 4), n_sample=100, n_future=10)\n"
   ]
  },
  {
   "cell_type": "raw",
   "metadata": {},
   "source": [
    "from matplotlib import pyplot as plt\n",
    "%matplotlib inline\n",
    "plt.figure(figsize=(12, 10))\n",
    "for i in range(10):\n",
    "    for j in range(12):\n",
    "        plt.subplot(10, 12, i*12+j+1)\n",
    "        plt.imshow(samples[i, j, 0, 0].cpu())\n",
    "        plt.axis('off')\n",
    "plt.show()"
   ]
  },
  {
   "cell_type": "code",
   "execution_count": null,
   "metadata": {},
   "outputs": [
    {
     "name": "stdout",
     "output_type": "stream",
     "text": [
      "Finished epoch 0, time elapsed 3196.0\n",
      "Finished epoch 1, time elapsed 3310.9\n",
      "Finished epoch 2, time elapsed 3420.5\n",
      "Finished epoch 3, time elapsed 3533.8\n",
      "Finished epoch 4, time elapsed 3650.0\n",
      "Finished epoch 5, time elapsed 3765.5\n",
      "Finished epoch 6, time elapsed 3879.6\n",
      "Finished epoch 7, time elapsed 3996.6\n",
      "Finished epoch 8, time elapsed 4113.9\n",
      "Finished epoch 9, time elapsed 4232.4\n",
      "Finished epoch 10, time elapsed 4347.5\n",
      "Finished epoch 11, time elapsed 4465.1\n",
      "Finished epoch 12, time elapsed 4575.5\n",
      "Finished epoch 13, time elapsed 4695.1\n",
      "Finished epoch 14, time elapsed 4808.6\n",
      "Finished epoch 15, time elapsed 4926.1\n",
      "Finished epoch 16, time elapsed 5040.7\n",
      "Finished epoch 17, time elapsed 5156.3\n",
      "Finished epoch 18, time elapsed 5272.0\n",
      "Finished epoch 19, time elapsed 5386.8\n",
      "Finished epoch 20, time elapsed 5500.4\n",
      "Finished epoch 21, time elapsed 5610.3\n",
      "Finished epoch 22, time elapsed 5726.6\n",
      "Finished epoch 23, time elapsed 5839.8\n",
      "Finished epoch 24, time elapsed 5956.9\n",
      "Finished epoch 25, time elapsed 6074.5\n",
      "Finished epoch 26, time elapsed 6187.9\n",
      "Finished epoch 27, time elapsed 6303.4\n",
      "Finished epoch 28, time elapsed 6408.0\n",
      "Finished epoch 29, time elapsed 6517.1\n",
      "Finished epoch 30, time elapsed 6632.1\n",
      "Finished epoch 31, time elapsed 6737.5\n",
      "Finished epoch 247, time elapsed 31399.4\n",
      "Finished epoch 248, time elapsed 31520.5\n",
      "Finished epoch 249, time elapsed 31630.8\n",
      "Finished epoch 250, time elapsed 31741.7\n",
      "Finished epoch 251, time elapsed 31857.2\n",
      "Finished epoch 252, time elapsed 31972.9\n",
      "Finished epoch 253, time elapsed 32083.7\n",
      "Finished epoch 254, time elapsed 32199.7\n",
      "Finished epoch 255, time elapsed 32319.7\n",
      "Finished epoch 256, time elapsed 32434.1\n",
      "Finished epoch 257, time elapsed 32547.4\n",
      "Finished epoch 258, time elapsed 32655.3\n",
      "Finished epoch 259, time elapsed 32770.4\n",
      "Finished epoch 260, time elapsed 32886.3\n",
      "Finished epoch 261, time elapsed 33008.2\n",
      "Finished epoch 262, time elapsed 33121.8\n",
      "Finished epoch 263, time elapsed 33235.6\n",
      "Finished epoch 264, time elapsed 33345.3\n",
      "Finished epoch 265, time elapsed 33460.7\n",
      "Finished epoch 266, time elapsed 33576.3\n",
      "Finished epoch 267, time elapsed 33691.4\n",
      "Finished epoch 268, time elapsed 33808.2\n",
      "Finished epoch 269, time elapsed 33924.0\n",
      "Finished epoch 270, time elapsed 34042.6\n",
      "Finished epoch 271, time elapsed 34162.9\n",
      "Finished epoch 272, time elapsed 34279.3\n",
      "Finished epoch 273, time elapsed 34395.7\n",
      "Finished epoch 274, time elapsed 34509.7\n",
      "Finished epoch 275, time elapsed 34625.5\n",
      "Finished epoch 276, time elapsed 34739.4\n",
      "Finished epoch 277, time elapsed 34853.7\n",
      "Finished epoch 278, time elapsed 34969.4\n",
      "Finished epoch 279, time elapsed 35081.2\n",
      "Finished epoch 353, time elapsed 43538.7\n",
      "Finished epoch 354, time elapsed 43651.9\n",
      "Finished epoch 355, time elapsed 43768.4\n",
      "Finished epoch 356, time elapsed 43881.7\n",
      "Finished epoch 357, time elapsed 44000.4\n",
      "Finished epoch 358, time elapsed 44115.5\n",
      "Finished epoch 359, time elapsed 44234.8\n",
      "Finished epoch 360, time elapsed 44350.6\n",
      "Finished epoch 361, time elapsed 44466.7\n",
      "Finished epoch 362, time elapsed 44584.2\n",
      "Finished epoch 363, time elapsed 44693.2\n",
      "Finished epoch 364, time elapsed 44808.0\n",
      "Finished epoch 365, time elapsed 44920.9\n",
      "Finished epoch 366, time elapsed 45035.6\n",
      "Finished epoch 367, time elapsed 45144.5\n",
      "Finished epoch 368, time elapsed 45262.7\n",
      "Finished epoch 369, time elapsed 45376.7\n",
      "Finished epoch 370, time elapsed 45492.6\n",
      "Finished epoch 371, time elapsed 45610.1\n",
      "Finished epoch 372, time elapsed 45723.9\n",
      "Finished epoch 373, time elapsed 45838.3\n",
      "Finished epoch 374, time elapsed 45954.0\n",
      "Finished epoch 375, time elapsed 46066.0\n",
      "Finished epoch 376, time elapsed 46182.2\n",
      "Finished epoch 377, time elapsed 46300.7\n",
      "Finished epoch 378, time elapsed 46417.1\n",
      "Finished epoch 379, time elapsed 46530.0\n",
      "Finished epoch 380, time elapsed 46645.5\n",
      "Finished epoch 381, time elapsed 46752.3\n"
     ]
    }
   ],
   "source": [
    "mb_size = 16\n",
    "assert args.n_sample % mb_size == 0\n",
    "err_sim = []\n",
    "err_combo = []\n",
    "err_feat = []\n",
    "\n",
    "arr_sim, arr_pred, arr_pred_true, arr_residue, arr_residue_true = [], [], [], [], []\n",
    "\n",
    "for idx, data in enumerate(multi_loader):\n",
    "    bx, by, bl = data\n",
    "    bx = bx.to(device).permute(1, 0, 2, 3, 4, 5)\n",
    "    # print(bx.shape)\n",
    "    with torch.no_grad():\n",
    "        # Run the simulation over multiple batches to avoid memory overflow\n",
    "        sim_bx = torch.zeros((args.n_sample, args.batch_size, 1, 64, 64)).to(device)\n",
    "        sim_feat = torch.zeros((args.n_sample, args.batch_size, args.feat_size)).to(device)\n",
    "        true_feat = torch.zeros((args.n_sample, args.batch_size, args.feat_size)).to(device)\n",
    "        for rep in range(args.n_sample // mb_size):\n",
    "            bx_in = bx[0, :, :2].to(device).permute(1, 0, 2, 3, 4)\n",
    "            # print(bx_in.shape)\n",
    "            sim_bx[rep*mb_size:(rep+1)*mb_size] = sampler.simulate(bx_in, n_sample=mb_size, n_future=args.n_future)[:, -1]\n",
    "            # print(simulated_bx.shape)\n",
    "            sim_feat[rep*mb_size:(rep+1)*mb_size] = feat_model(sim_bx[rep*mb_size:(rep+1)*mb_size].reshape(-1, 1, 64, 64)).view(\n",
    "                mb_size, args.batch_size, args.feat_size)\n",
    "            # print(feat.shape)\n",
    "            bx_in = bx[rep*mb_size:(rep+1)*mb_size, :, -1].reshape(-1, 1, 64, 64)\n",
    "            # print(bx_in.shape)\n",
    "            true_feat[rep*mb_size:(rep+1)*mb_size] = feat_model(bx_in).view(mb_size, args.batch_size, args.feat_size)\n",
    "            #    args.mbatch_size, mb_size, args.feat_size)\n",
    "            # Warning: to check that these reshapes didn't mess up ordering\n",
    "    for q_index, query in enumerate(queries_all):\n",
    "        alpha = torch.randn([1, args.batch_size, args.feat_size], requires_grad=True, device=device)\n",
    "        alpha_optim = optim.Adam([alpha], lr=args.q_learning_rate)\n",
    "\n",
    "        sim_val = query(sim_bx.reshape(-1, 1, 64, 64)).view(args.n_sample, args.batch_size)\n",
    "\n",
    "        for qiter in range(5000):\n",
    "            alpha_optim.zero_grad()\n",
    "            loss_q = (sim_val - (sim_feat * alpha).mean(dim=2)).abs().mean()\n",
    "            # print(query(bx[:, 10]))\n",
    "            # print((feat_model(bx[:, 10]) * alpha).mean(dim=1))\n",
    "            loss_q.backward()\n",
    "            alpha_optim.step()\n",
    "            writer.add_scalar('loss_q_%d' % q_index, loss_q, qiter)\n",
    "\n",
    "        # Compute the expectation if we were to use the simulated data only\n",
    "        with torch.no_grad():\n",
    "            # Expectation according to future simulations\n",
    "            sim_exp = sim_val.mean(dim=0)\n",
    "            # print(sim_exp.shape)\n",
    "            # Expectation of the features\n",
    "            # print(predictor(bx[0, :, 0:2]).shape)\n",
    "            pred_exp_feat = (predictor(bx[0, :, 0:2]) * alpha[0]).mean(dim=1)\n",
    "            residue_exp = (sim_val - (sim_feat * alpha).mean(dim=2)).mean(dim=0)\n",
    "            combo_exp = pred_exp_feat + residue_exp\n",
    "\n",
    "            true_exp = query(bx[:, :, -1].reshape(-1, 1, 64, 64)).view(args.n_sample, args.batch_size).mean(dim=0)\n",
    "            true_exp_feat = (true_feat.mean(dim=0) * alpha[0]).mean(dim=1)\n",
    "            true_exp_residue = true_exp - true_exp_feat \n",
    "            \n",
    "            err_sim.append(sim_exp - true_exp)\n",
    "            err_combo.append(combo_exp - true_exp)\n",
    "            err_feat.append(pred_exp_feat - true_exp_feat)\n",
    "            \n",
    "            arr_residue.append(residue_exp)\n",
    "            arr_pred.append(pred_exp_feat)\n",
    "            arr_sim.append(sim_exp)\n",
    "            arr_pred_true.append(true_exp_feat)\n",
    "            arr_residue_true.append(true_exp_residue)\n",
    "            \n",
    "    message(idx)\n",
    "    global_iteration += 1\n"
   ]
  },
  {
   "cell_type": "code",
   "execution_count": 13,
   "metadata": {},
   "outputs": [],
   "source": [
    "err_sim = torch.cat(err_sim).cpu().numpy()\n",
    "err_combo = torch.cat(err_combo).cpu().numpy()\n",
    "err_feat = torch.cat(err_feat).cpu().numpy()"
   ]
  },
  {
   "cell_type": "code",
   "execution_count": 14,
   "metadata": {},
   "outputs": [],
   "source": [
    "arr_residue = torch.cat(arr_residue).cpu().numpy()\n",
    "arr_pred = torch.cat(arr_pred).cpu().numpy()\n",
    "arr_pred_true = torch.cat(arr_pred_true).cpu().numpy()\n",
    "arr_sim = torch.cat(arr_sim).cpu().numpy()\n",
    "arr_residue_true = torch.cat(arr_residue_true).cpu().numpy()"
   ]
  },
  {
   "cell_type": "code",
   "execution_count": 20,
   "metadata": {},
   "outputs": [
    {
     "name": "stdout",
     "output_type": "stream",
     "text": [
      "0.05092336 0.023543902\n"
     ]
    }
   ],
   "source": [
    "print(np.mean(np.abs(err_sim)), np.mean(np.abs(err_combo)))"
   ]
  },
  {
   "cell_type": "code",
   "execution_count": 17,
   "metadata": {},
   "outputs": [],
   "source": [
    "err_combo_alt = (arr_residue_true - arr_residue) + (arr_pred_true - arr_pred) "
   ]
  },
  {
   "cell_type": "code",
   "execution_count": 18,
   "metadata": {},
   "outputs": [
    {
     "data": {
      "image/png": "[encoded data removed]",
      "text/plain": [
       "<Figure size 432x288 with 1 Axes>"
      ]
     },
     "metadata": {
      "needs_background": "light"
     },
     "output_type": "display_data"
    }
   ],
   "source": [
    "plt.hist(err_sim, bins=20, alpha=0.5, color='b')\n",
    "plt.hist(err_combo, bins=20, alpha=0.5, color='r')\n",
    "plt.hist(err_combo_alt, bins=20, alpha=0.5, color='g')\n",
    "plt.show()"
   ]
  },
  {
   "cell_type": "code",
   "execution_count": 19,
   "metadata": {},
   "outputs": [
    {
     "data": {
      "image/png": "[encoded data removed]",
      "text/plain": [
       "<Figure size 432x288 with 1 Axes>"
      ]
     },
     "metadata": {
      "needs_background": "light"
     },
     "output_type": "display_data"
    }
   ],
   "source": [
    "# plt.hist(arr_residue.cpu().numpy(), bins=20, alpha=0.5)\n",
    "plt.hist(arr_pred, bins=20, alpha=0.5, color='r')\n",
    "plt.hist(arr_pred_true, bins=20, alpha=0.5, color='g')\n",
    "plt.hist(arr_pred - arr_pred_true, bins=20, alpha=0.5, color='b')\n",
    "\n",
    "plt.hist(arr_residue_true, bins=20, alpha=0.5, color='m')\n",
    "plt.show()"
   ]
  },
  {
   "cell_type": "raw",
   "metadata": {},
   "source": [
    "plt.figure(figsize=(30, 30))\n",
    "for rep in range(10):\n",
    "    for t in range(12):\n",
    "        plt.subplot(20, 12, rep*24+t+1)\n",
    "        plt.imshow(bx[0, rep, t, 0].cpu())\n",
    "        plt.axis('off')\n",
    "        plt.subplot(20, 12, rep*24+12+t+1)\n",
    "        plt.imshow(simulated_bx[rep, t, 0, 0].cpu())\n",
    "        plt.axis('off')\n",
    "plt.show()"
   ]
  },
  {
   "cell_type": "code",
   "execution_count": null,
   "metadata": {},
   "outputs": [],
   "source": [
    "import seaborn as sns\n",
    "multi_dataset.set_nsample(args.n_sample)\n",
    "plt.figure(figsize=(20, 20))\n",
    "palette = sns.color_palette('hls', 5)\n",
    "with torch.no_grad():\n",
    "    for idx, data in enumerate(multi_loader):\n",
    "        bx, by, bl = data\n",
    "        bx = bx.to(device)\n",
    "\n",
    "        actual_feat = feat_model(bx[:, :, -1].view(-1, 1, 64, 64)).view(8, args.n_sample, args.feat_size)\n",
    "        actual_exp = actual_feat.mean(dim=1)\n",
    "        pred_exp = predictor(bx[:, 0, 0:2])\n",
    "        \n",
    "        for i in range(36):\n",
    "            plt.subplot(6, 6, i+1)\n",
    "            plt.hist(actual_feat[0, :, i].cpu().numpy(), bins=20, color=palette[idx], alpha=0.5)\n",
    "            plt.axvline(pred_exp[0, i], color=palette[idx])\n",
    "            plt.axvline(actual_exp[0, i], color=palette[idx], linestyle=':')\n",
    "        if idx == 4:\n",
    "            break\n",
    "plt.show()"
   ]
  },
  {
   "cell_type": "code",
   "execution_count": null,
   "metadata": {},
   "outputs": [],
   "source": []
  }
 ],
 "metadata": {
  "kernelspec": {
   "display_name": "Python 3",
   "language": "python",
   "name": "python3"
  },
  "language_info": {
   "codemirror_mode": {
    "name": "ipython",
    "version": 3
   },
   "file_extension": ".py",
   "mimetype": "text/x-python",
   "name": "python",
   "nbconvert_exporter": "python",
   "pygments_lexer": "ipython3",
   "version": "3.6.12"
  }
 },
 "nbformat": 4,
 "nbformat_minor": 4
}

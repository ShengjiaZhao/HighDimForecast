{
 "cells": [
  {
   "cell_type": "code",
   "execution_count": null,
   "metadata": {},
   "outputs": [],
   "source": [
    "import math\n",
    "import numpy as np\n",
    "import torch\n",
    "import torch.nn as nn\n",
    "import torch.nn.functional as F\n",
    "from torch.autograd import Variable\n",
    "import random\n",
    "import time\n",
    "from dataset import *\n",
    "from model import FeatureNetC"
   ]
  },
  {
   "cell_type": "code",
   "execution_count": null,
   "metadata": {},
   "outputs": [],
   "source": [
    "class Args:\n",
    "    def __init__(self):\n",
    "        self.gpu = 0\n",
    "        self.run_label = 0\n",
    "        self.learning_rate = 1e-4\n",
    "        self.feat_size = 128\n",
    "        self.model_name = 'c'\n",
    "        \n",
    "args = Args()\n",
    "device = torch.device('cuda:%d' % args.gpu)\n",
    "args.device = device"
   ]
  },
  {
   "cell_type": "code",
   "execution_count": null,
   "metadata": {},
   "outputs": [],
   "source": [
    "while True:\n",
    "    args.log_dir = '/data/hdim-forecast/log3/rep/model=%s, feat_size=%d-lr=%.5f-run=%d' % \\\n",
    "        (args.model_name, args.feat_size, args.learning_rate, args.run_label)\n",
    "    if not os.path.isdir(args.log_dir):\n",
    "        os.makedirs(args.log_dir)\n",
    "        break\n",
    "    args.run_label += 1\n",
    "print(\"Run number = %d\" % args.run_label)\n",
    "writer = SummaryWriter(args.log_dir)\n",
    "log_writer = open(os.path.join(args.log_dir, 'results.txt'), 'w')\n",
    "\n",
    "start_time = time.time()\n",
    "global_iteration = 0\n",
    "random.seed(args.run_label)  # Set a different random seed for different run labels\n",
    "torch.manual_seed(args.run_label)\n",
    "    \n",
    "def log_scalar(name, value, epoch):\n",
    "    writer.add_scalar(name, value, epoch)\n",
    "    log_writer.write('%f ' % value)"
   ]
  },
  {
   "cell_type": "code",
   "execution_count": null,
   "metadata": {},
   "outputs": [],
   "source": [
    "train_dataset = MovingMNIST(train=True, n_past=1, n_future=1, deterministic=False)\n",
    "train_loader = DataLoader(train_dataset, batch_size=32, shuffle=True, num_workers=4)\n",
    "print(len(train_dataset))"
   ]
  },
  {
   "cell_type": "code",
   "execution_count": null,
   "metadata": {},
   "outputs": [],
   "source": [
    "def preprocess(bx, by, bl, device):\n",
    "    bx = bx.view(-1, 1, 64, 64).to(device)\n",
    "    by = F.one_hot(by.type(torch.long), num_classes=10).sum(axis=1, keepdim=True).repeat(1, bl.shape[1], 1).view(-1, 10).to(device).type(torch.float32)\n",
    "    bl = torch.stack([bl.sum(dim=2), (bl[:, :, 0] - bl[:, :, 1]).abs()], axis=2).view(-1, 4).to(device)\n",
    "    by[by > 1.0] = 1.0\n",
    "    return bx, by, bl"
   ]
  },
  {
   "cell_type": "code",
   "execution_count": null,
   "metadata": {},
   "outputs": [],
   "source": [
    "model = FeatureNetC(args.feat_size, train_mode=True).to(device)\n",
    "optimizer = optim.Adam(model.parameters(), lr=args.learning_rate)"
   ]
  },
  {
   "cell_type": "code",
   "execution_count": null,
   "metadata": {},
   "outputs": [],
   "source": [
    "# bx, by, bl = iter(train_loader).next()\n",
    "# bx, by, bl = preprocess(bx, by, bl, device)\n",
    "\n",
    "for epoch in range(3000):\n",
    "    for data in train_loader:\n",
    "        optimizer.zero_grad()\n",
    "        bx, by, bl = preprocess(*data, device)\n",
    "        feat, output = model(bx)\n",
    "        label = output[:, :10]\n",
    "        loc = output[:, 10:14]\n",
    "        loss_label = F.binary_cross_entropy_with_logits(input=label, target=by, weight=by+0.3333)\n",
    "        # loss_label = (label - by).pow(2).sum(axis=1).mean()\n",
    "        loss_loc = (loc - bl).pow(2).sum(axis=1).mean()\n",
    "        \n",
    "        loss_reg = (feat.std(dim=0) - 1.0).pow(2).mean()\n",
    "        loss_all = loss_label + loss_loc + loss_reg\n",
    "        \n",
    "        binarized = (F.sigmoid(label) > 0.5).type(torch.float32)\n",
    "        recall = (binarized * by).mean() / by.mean()\n",
    "    \n",
    "    \n",
    "        writer.add_scalar('loss_label', loss_label, global_iteration)\n",
    "        writer.add_scalar('loss_loc', loss_loc, global_iteration)\n",
    "        writer.add_scalar('loss_reg', loss_reg, global_iteration)\n",
    "        writer.add_scalar('recall', recall, global_iteration)\n",
    "        global_iteration += 1\n",
    "        loss_all.backward()\n",
    "        optimizer.step()\n",
    "    if epoch % 100 == 0:\n",
    "        print(\"Epoch %d, time %.2f\" % (epoch, time.time() - start_time))\n",
    "        torch.save(model.state_dict(), 'pretrained/representation-%s-%d.pt' % (args.model_name, args.feat_size))"
   ]
  },
  {
   "cell_type": "code",
   "execution_count": null,
   "metadata": {},
   "outputs": [],
   "source": []
  },
  {
   "cell_type": "code",
   "execution_count": null,
   "metadata": {},
   "outputs": [],
   "source": []
  }
 ],
 "metadata": {
  "kernelspec": {
   "display_name": "Python 3",
   "language": "python",
   "name": "python3"
  },
  "language_info": {
   "codemirror_mode": {
    "name": "ipython",
    "version": 3
   },
   "file_extension": ".py",
   "mimetype": "text/x-python",
   "name": "python",
   "nbconvert_exporter": "python",
   "pygments_lexer": "ipython3",
   "version": "3.6.12"
  }
 },
 "nbformat": 4,
 "nbformat_minor": 4
}

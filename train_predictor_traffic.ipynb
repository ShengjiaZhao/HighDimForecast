{
 "cells": [
  {
   "cell_type": "code",
   "execution_count": 1,
   "metadata": {},
   "outputs": [],
   "source": [
    "import math\n",
    "import numpy as np\n",
    "import torch\n",
    "import torch.nn as nn\n",
    "import torch.nn.functional as F\n",
    "from torch.autograd import Variable\n",
    "import random\n",
    "from dataset import *\n",
    "from model import *\n",
    "import gc\n"
   ]
  },
  {
   "cell_type": "code",
   "execution_count": 2,
   "metadata": {},
   "outputs": [],
   "source": [
    "class Args:\n",
    "    def __init__(self):\n",
    "        # System configs\n",
    "        self.gpu = 3\n",
    "        self.run_label = 0\n",
    "        self.verbose = False\n",
    "        self.log_root = '/data/hdim-forecast/log5/pred'\n",
    "        \n",
    "        # Global model choice parameters\n",
    "        self.x_dim = 2         # Number of input features \n",
    "        self.y_dim = 131       # Number of predicted values\n",
    "        self.n_past = 32       # Number of steps from the past to condition on\n",
    "        self.n_future = 10     # Number of steps into the future to predict\n",
    "        self.feat_size = 131   # Number of basis features\n",
    "        self.lstm_hidden_dim = 256  \n",
    "        self.lstm_layers = 2\n",
    "        self.lstm_dropout = 0.5\n",
    "        self.prediction_model = 'lstm'        \n",
    "        \n",
    "        # Parameters only used for forecasting\n",
    "        self.q_learning_rate = 1e-3   # learning rate for optimizing queries\n",
    "        self.q_batch_size = 8    # batch size to evaluate each query on \n",
    "        self.n_sample = 1024   # Number of samples to simulate\n",
    "        \n",
    "        # Parameters only used for sampler training\n",
    "        self.s_test_len = 1024   # The length of test sequence to visualize\n",
    "        self.s_learning_rate = 1e-4  \n",
    "        self.s_batch_size = 8\n",
    "        \n",
    "        # Parameters only used for predictor training\n",
    "        self.p_learning_rate = 1e-4\n",
    "        self.p_batch_size = 32\n",
    "        \n",
    "args = Args()\n",
    "device = torch.device('cuda:%d' % args.gpu)\n",
    "args.device = device"
   ]
  },
  {
   "cell_type": "code",
   "execution_count": 3,
   "metadata": {},
   "outputs": [
    {
     "name": "stdout",
     "output_type": "stream",
     "text": [
      "Run number = 0\n"
     ]
    }
   ],
   "source": [
    "while True:\n",
    "    args.name = '%s-%d-%d-%d-%d-%d-%d-%d-%.1f-%.4f-%d' % \\\n",
    "        (args.prediction_model, args.x_dim, args.y_dim, args.n_past, args.n_future, args.feat_size, \n",
    "         args.lstm_layers, args.lstm_hidden_dim, args.lstm_dropout, args.p_learning_rate, args.run_label)\n",
    "    args.log_dir = os.path.join(args.log_root, args.name)\n",
    "    if not os.path.isdir(args.log_dir):\n",
    "        os.makedirs(args.log_dir)\n",
    "        break\n",
    "    args.run_label += 1\n",
    "print(\"Run number = %d\" % args.run_label)\n",
    "writer = SummaryWriter(args.log_dir)\n",
    "log_writer = open(os.path.join(args.log_dir, 'results.txt'), 'w')\n",
    "\n",
    "start_time = time.time()\n",
    "global_iteration = 0\n",
    "random.seed(args.run_label)  # Set a different random seed for different run labels\n",
    "torch.manual_seed(args.run_label)\n",
    "    \n",
    "def log_scalar(name, value, epoch):\n",
    "    writer.add_scalar(name, value, epoch)\n",
    "    log_writer.write('%f ' % value)\n",
    "    \n",
    "def message(epoch):\n",
    "    print(\"Finished epoch %d, time elapsed %.1f\" % (epoch, time.time() - start_time))\n",
    "    \n",
    "def maybe_print(str_to_print):\n",
    "    if self.verbose:\n",
    "        print(str_to_print)"
   ]
  },
  {
   "cell_type": "code",
   "execution_count": 4,
   "metadata": {},
   "outputs": [],
   "source": [
    "train_dataset = TrafficDataset(train=True, max_len=args.n_past+args.n_future)\n",
    "train_loader = DataLoader(train_dataset, batch_size=args.p_batch_size, shuffle=True, num_workers=4)\n",
    "\n",
    "test_dataset = TrafficDataset(train=False, max_len=args.n_past+args.n_future)\n",
    "test_loader = DataLoader(test_dataset, batch_size=256, shuffle=False, num_workers=4)"
   ]
  },
  {
   "cell_type": "code",
   "execution_count": 5,
   "metadata": {},
   "outputs": [],
   "source": [
    "feat_model = FeatureNetFirstMoment()"
   ]
  },
  {
   "cell_type": "code",
   "execution_count": 6,
   "metadata": {},
   "outputs": [
    {
     "data": {
      "text/plain": [
       "tensor([[0.1000, 0.2000],\n",
       "        [0.3000, 0.5000]])"
      ]
     },
     "execution_count": 6,
     "metadata": {},
     "output_type": "execute_result"
    }
   ],
   "source": [
    "feat_model(torch.tensor([[0.1, 0.2], [0.3, 0.5]]))"
   ]
  },
  {
   "cell_type": "code",
   "execution_count": 7,
   "metadata": {},
   "outputs": [],
   "source": [
    "predictor = PredictorRecurrent(args).to(device)\n",
    "exp_optim = optim.Adam(predictor.parameters(), lr=args.p_learning_rate)\n",
    "scheduler = optim.lr_scheduler.StepLR(exp_optim, 20, 0.9)"
   ]
  },
  {
   "cell_type": "code",
   "execution_count": 8,
   "metadata": {},
   "outputs": [
    {
     "name": "stdout",
     "output_type": "stream",
     "text": [
      "Finished epoch 0, time elapsed 33.7\n",
      "Finished epoch 1, time elapsed 65.8\n",
      "Finished epoch 2, time elapsed 97.5\n"
     ]
    }
   ],
   "source": [
    "# Learn the conditional expectation\n",
    "for epoch in range(3):\n",
    "    predictor.eval()\n",
    "    loss_test_l2 = []\n",
    "    with torch.no_grad():\n",
    "        for idx, data in enumerate(test_loader):\n",
    "\n",
    "            bx, by = data[0].to(device), data[1].to(device)\n",
    "            input_raw = by[:, -1, :].clone()\n",
    "            input_raw[input_raw <= 0.1] = float('nan')\n",
    "        \n",
    "            actual_feat = feat_model(input_raw).detach()\n",
    "            pred_exp = predictor(bx[:, :args.n_past], by[:, :args.n_past])\n",
    "\n",
    "            loss_test_l2.append((actual_feat - pred_exp)[~torch.isnan(actual_feat)].pow(2))\n",
    "    loss_test_l2 = torch.cat(loss_test_l2).mean() \n",
    "    writer.add_scalar('loss_test_l2', loss_test_l2, global_iteration)\n",
    "    \n",
    "    predictor.train()\n",
    "    for idx, data in enumerate(train_loader):\n",
    "        exp_optim.zero_grad()\n",
    "\n",
    "        bx, by = data[0].to(device), data[1].to(device)\n",
    "        # by has shape [batch_size, seq_len, num_streets]\n",
    "        input_raw = by[:, -1, :].clone()\n",
    "        input_raw[input_raw <= 0.1] = float('nan')\n",
    "        actual_feat = feat_model(input_raw).detach()\n",
    "        # print(bx.shape, by.shape)\n",
    "        # Note that the feature input use nan as missing value, while the predictor input use -1 as missing value. This is by design\n",
    "        pred_exp = predictor(bx[:, :args.n_past], by[:, :args.n_past])\n",
    "        \n",
    "        valid_idx = ()\n",
    "        loss_l2 = (actual_feat - pred_exp)[~torch.isnan(actual_feat)].pow(2).mean()\n",
    "        loss_l2.backward()\n",
    "\n",
    "        writer.add_scalar('loss_l2', loss_l2, global_iteration)\n",
    "        exp_optim.step()\n",
    "        global_iteration += 1\n",
    "            \n",
    "    scheduler.step()\n",
    "    message(epoch)\n",
    "\n",
    "    torch.save(predictor.state_dict(), 'pretrained/predictor_traffic_%s.pt' % (args.name))"
   ]
  },
  {
   "cell_type": "code",
   "execution_count": 9,
   "metadata": {},
   "outputs": [
    {
     "name": "stdout",
     "output_type": "stream",
     "text": [
      "torch.Size([2, 131])\n"
     ]
    }
   ],
   "source": [
    "print(actual_feat.shape)"
   ]
  },
  {
   "cell_type": "code",
   "execution_count": 10,
   "metadata": {},
   "outputs": [
    {
     "name": "stdout",
     "output_type": "stream",
     "text": [
      "93218\n"
     ]
    }
   ],
   "source": [
    "print(len(train_dataset))"
   ]
  },
  {
   "cell_type": "code",
   "execution_count": 11,
   "metadata": {},
   "outputs": [
    {
     "name": "stdout",
     "output_type": "stream",
     "text": [
      "9580\n"
     ]
    }
   ],
   "source": [
    "print(len(test_dataset))"
   ]
  },
  {
   "cell_type": "code",
   "execution_count": null,
   "metadata": {},
   "outputs": [],
   "source": []
  }
 ],
 "metadata": {
  "kernelspec": {
   "display_name": "Python 3",
   "language": "python",
   "name": "python3"
  },
  "language_info": {
   "codemirror_mode": {
    "name": "ipython",
    "version": 3
   },
   "file_extension": ".py",
   "mimetype": "text/x-python",
   "name": "python",
   "nbconvert_exporter": "python",
   "pygments_lexer": "ipython3",
   "version": "3.6.12"
  }
 },
 "nbformat": 4,
 "nbformat_minor": 4
}

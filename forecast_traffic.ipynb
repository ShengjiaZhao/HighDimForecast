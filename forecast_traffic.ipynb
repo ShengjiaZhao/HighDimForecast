{
 "cells": [
  {
   "cell_type": "code",
   "execution_count": null,
   "metadata": {},
   "outputs": [],
   "source": [
    "import math\n",
    "import numpy as np\n",
    "import torch\n",
    "import torch.nn as nn\n",
    "import torch.nn.functional as F\n",
    "from torch.autograd import Variable\n",
    "import random\n",
    "from dataset import *\n",
    "import gc\n",
    "from model import *"
   ]
  },
  {
   "cell_type": "code",
   "execution_count": null,
   "metadata": {},
   "outputs": [],
   "source": [
    "class Args:\n",
    "    def __init__(self):\n",
    "        # System configs\n",
    "        self.gpu = 3\n",
    "        self.run_label = 0\n",
    "        self.verbose = False\n",
    "        self.log_root = '/data/hdim-forecast/log5/forecast'\n",
    "        \n",
    "        # Global model choice parameters\n",
    "        self.x_dim = 2         # Number of input features \n",
    "        self.y_dim = 131       # Number of predicted values\n",
    "        self.n_past = 32       # Number of steps from the past to condition on\n",
    "        self.n_future = 10     # Number of steps into the future to predict\n",
    "        self.feat_size = 131   # Number of basis features\n",
    "        self.lstm_hidden_dim = 256  \n",
    "        self.lstm_layers = 2\n",
    "        self.lstm_dropout = 0.5\n",
    "        self.prediction_model = 'lstm'        \n",
    "        \n",
    "        # Parameters only used for forecasting\n",
    "        self.f_learning_rate = 1e-2   # learning rate for optimizing queries\n",
    "        self.f_batch_size = 8    # batch size to evaluate each query on \n",
    "        self.n_sample = 1024   # Number of samples to simulate\n",
    "        \n",
    "        # Parameters only used for sampler training\n",
    "        self.s_test_len = 1024   # The length of test sequence to visualize\n",
    "        self.s_learning_rate = 1e-4  \n",
    "        self.s_batch_size = 8\n",
    "        \n",
    "        # Parameters only used for predictor training\n",
    "        self.p_learning_rate = 1e-4\n",
    "        self.p_batch_size = 32\n",
    "        \n",
    "args = Args()\n",
    "device = torch.device('cuda:%d' % args.gpu)\n",
    "args.device = device"
   ]
  },
  {
   "cell_type": "code",
   "execution_count": null,
   "metadata": {},
   "outputs": [],
   "source": [
    "while True:\n",
    "    args.name = '%s-%d-%d-%d-%d-%d-%d-%d-%.1f-%.4f-%d' % \\\n",
    "        (args.prediction_model, args.x_dim, args.y_dim, args.n_past, args.n_future, args.feat_size, \n",
    "         args.lstm_layers, args.lstm_hidden_dim, args.lstm_dropout, args.f_learning_rate, args.run_label)\n",
    "    args.log_dir = os.path.join(args.log_root, args.name)\n",
    "    if not os.path.isdir(args.log_dir):\n",
    "        os.makedirs(args.log_dir)\n",
    "        break\n",
    "    args.run_label += 1\n",
    "print(\"Run number = %d\" % args.run_label)\n",
    "writer = SummaryWriter(args.log_dir)\n",
    "log_writer = open(os.path.join(args.log_dir, 'results.txt'), 'w')\n",
    "\n",
    "start_time = time.time()\n",
    "global_iteration = 0\n",
    "random.seed(args.run_label)  # Set a different random seed for different run labels\n",
    "torch.manual_seed(args.run_label)\n",
    "    \n",
    "def log_scalar(name, value, epoch):\n",
    "    writer.add_scalar(name, value, epoch)\n",
    "    log_writer.write('%f ' % value)\n",
    "    \n",
    "def message(epoch):\n",
    "    print(\"Finished epoch %d, time elapsed %.1f\" % (epoch, time.time() - start_time))"
   ]
  },
  {
   "cell_type": "code",
   "execution_count": null,
   "metadata": {},
   "outputs": [],
   "source": [
    "train_dataset = TrafficDataset(train=True, max_len=args.n_past+args.n_future)\n",
    "train_loader = DataLoader(train_dataset, batch_size=args.f_batch_size, shuffle=True, num_workers=4)\n",
    "\n",
    "test_dataset = TrafficDataset(train=False, max_len=args.n_past+args.n_future)\n",
    "test_loader = DataLoader(test_dataset, batch_size=args.f_batch_size, shuffle=False, num_workers=4)"
   ]
  },
  {
   "cell_type": "code",
   "execution_count": null,
   "metadata": {},
   "outputs": [],
   "source": [
    "feat_model = FeatureNetFirstMoment(args.feat_size)"
   ]
  },
  {
   "cell_type": "code",
   "execution_count": null,
   "metadata": {},
   "outputs": [],
   "source": [
    "args.sample_name = '%s-%d-%d-%d-%d-%d-%d-%d-%.1f-%.4f-4' % \\\n",
    "        (args.prediction_model, args.x_dim, args.y_dim, args.n_past, args.n_future, args.feat_size, \n",
    "         args.lstm_layers, args.lstm_hidden_dim, args.lstm_dropout, args.s_learning_rate)\n",
    "    \n",
    "sampler = LSTMSampler(args)\n",
    "sampler.load_state_dict(torch.load('pretrained/sampler_traffic_%s.pt' % args.sample_name))\n",
    "sampler = sampler.eval().to(device)"
   ]
  },
  {
   "cell_type": "code",
   "execution_count": null,
   "metadata": {},
   "outputs": [],
   "source": [
    "args.predictor_name = '%s-%d-%d-%d-%d-%d-%d-%d-%.1f-%.4f-2' % \\\n",
    "        (args.prediction_model, args.x_dim, args.y_dim, args.n_past, args.n_future, args.feat_size, \n",
    "         args.lstm_layers, args.lstm_hidden_dim, args.lstm_dropout, args.p_learning_rate)\n",
    "predictor = PredictorRecurrent(args)\n",
    "predictor.load_state_dict(torch.load('pretrained/predictor_traffic_%s.pt' % args.predictor_name))\n",
    "predictor = predictor.eval().to(device)\n",
    "#             x: ([batch_size, n_past, x_dim]), the input feature\n",
    " #            y: ([batch_size, n_past, y_dim]), the previous step label"
   ]
  },
  {
   "cell_type": "code",
   "execution_count": null,
   "metadata": {},
   "outputs": [],
   "source": [
    "# Design a set of query functions, each query function should be a map from [batch_size, 1, 64, 64] tensor into a real number\n",
    "\n",
    "def get_query_travel():\n",
    "    num_route = torch.randint(low=3, high=10, size=(1,))\n",
    "    routes = torch.randperm(args.y_dim, device=args.device)[:num_route]\n",
    "    def query_func(y):   # Each query_func take as input y of size [batch_size, y_dim]\n",
    "        return y[:, routes].sum(dim=1)\n",
    "    return query_func\n",
    "\n",
    "def get_query_travel_sqr():\n",
    "    num_route = torch.randint(low=3, high=10, size=(1,))\n",
    "    routes = torch.randperm(args.y_dim, device=args.device)[:num_route]\n",
    "    def query_func(y):   # Each query_func take as input y of size [batch_size, y_dim]\n",
    "        return y[:, routes].sum(dim=1).pow(2)\n",
    "    return query_func\n",
    "\n",
    "def get_query_travel_thresh():\n",
    "    num_route = torch.randint(low=3, high=10, size=(1,))\n",
    "    routes = torch.randperm(args.y_dim, device=args.device)[:num_route]\n",
    "    def query_func(y):   # Each query_func take as input y of size [batch_size, y_dim]\n",
    "        return (y[:, routes].sum(dim=1) > 9).type(torch.float32)\n",
    "    return query_func\n",
    "\n",
    "\n",
    "queries_all = [get_query_travel_thresh() for i in range(10)]\n"
   ]
  },
  {
   "cell_type": "code",
   "execution_count": null,
   "metadata": {},
   "outputs": [],
   "source": [
    "bx, by = iter(test_loader).next()\n",
    "bx, by = bx.to(device).permute(1, 0, 2), by.to(device).permute(1, 0, 2)\n",
    "with torch.no_grad():\n",
    "    plt.figure(figsize=(15, 15))\n",
    "    # bx_expanded = torch.cat([bx[0, :32], next_time(bx[0, -1, 1], 500)])\n",
    "    for i in range(16):\n",
    "        plt.subplot(4, 4, i+1)\n",
    "        samples = sampler.sample(bx, by[:args.n_past], args.n_future).permute(1, 0, 2)\n",
    "        plt.plot(torch.cat([by[0, :, 0], samples[0, :, 0]]).cpu())\n",
    "    plt.show()"
   ]
  },
  {
   "cell_type": "code",
   "execution_count": null,
   "metadata": {},
   "outputs": [],
   "source": [
    "print(predictor(bx[:, :args.n_past], by[:, :args.n_past]).shape)"
   ]
  },
  {
   "cell_type": "code",
   "execution_count": null,
   "metadata": {},
   "outputs": [],
   "source": [
    "mb_size = 16\n",
    "assert args.n_sample % mb_size == 0\n",
    "err_sim = []\n",
    "err_combo = []\n",
    "err_feat = []\n",
    "\n",
    "arr_sim, arr_pred, arr_pred_true, arr_residue, arr_residue_true, arr_exp_true = [], [], [], [], [], []\n",
    "\n",
    "for idx, data in enumerate(test_loader):\n",
    "    bx, by = data[0].to(device), data[1].to(device)\n",
    "\n",
    "    # print(bx.shape)\n",
    "    with torch.no_grad():\n",
    "        # Run the simulation over multiple batches to avoid memory overflow\n",
    "        sim_bx = torch.zeros(args.n_sample, args.f_batch_size, args.y_dim).to(device)\n",
    "        sim_feat = torch.zeros(args.n_sample, args.f_batch_size, args.feat_size).to(device)\n",
    "        \n",
    "        input_raw = by[:, -1, :].clone()\n",
    "        input_raw[input_raw <= 0.1] = float('nan')\n",
    "        true_feat = feat_model(input_raw)\n",
    "        for rep in range(args.n_sample):\n",
    "            by_in = by[:, :args.n_past, :].to(device)\n",
    "            # print(by_in.shape)\n",
    "            # print(bx_in.shape)\n",
    "            sim_bx[rep] = sampler.sample(bx.permute(1, 0, 2), by_in.permute(1, 0, 2), args.n_future)[-1]\n",
    "            # print(sim_bx.shape)\n",
    "            # print(simulated_bx.shape)\n",
    "        for rep in range(args.n_sample // mb_size):\n",
    "            sim_feat[rep*mb_size:(rep+1)*mb_size] = feat_model(sim_bx[rep*mb_size:(rep+1)*mb_size].view(-1, args.y_dim)).view(mb_size, args.f_batch_size, args.feat_size)\n",
    "\n",
    "    for q_index, query in enumerate(queries_all):\n",
    "        alpha = torch.randn([1, args.f_batch_size, args.feat_size], requires_grad=True, device=device)\n",
    "        alpha_optim = optim.Adam([alpha], lr=args.f_learning_rate)\n",
    "\n",
    "        sim_val = query(sim_bx.reshape(-1, args.y_dim)).view(args.n_sample, args.f_batch_size)\n",
    "        # print(sim_val)\n",
    "        for qiter in range(5000):\n",
    "            alpha_optim.zero_grad()\n",
    "            loss_q = (sim_val - (sim_feat * alpha).mean(dim=2)).abs().mean()\n",
    "            # print(loss_q, alpha)\n",
    "            # print(query(bx[:, 10]))\n",
    "            # print((feat_model(bx[:, 10]) * alpha).mean(dim=1))\n",
    "            loss_q.backward()\n",
    "            alpha_optim.step()\n",
    "            writer.add_scalar('loss_q_%d' % q_index, loss_q, qiter)\n",
    "        \n",
    "        # Compute the expectation if we were to use the simulated data only\n",
    "        with torch.no_grad():\n",
    "            true_exp = query(input_raw)\n",
    "            # print(true_exp)\n",
    "            valid_idx = ~torch.isnan(true_exp)\n",
    "            true_exp = true_exp[valid_idx]\n",
    "            if valid_idx.sum() == 0:\n",
    "                continue\n",
    "            # Expectation according to future simulations\n",
    "            sim_exp = sim_val.mean(dim=0)[valid_idx]\n",
    "            \n",
    "            # print(sim_exp)\n",
    "            # print(sim_exp.shape)\n",
    "            # Expectation of the features\n",
    "            # print(predictor(bx[0, :, 0:2]).shape)\n",
    "            pred_exp_feat = (predictor(bx[:, :args.n_past], by[:, :args.n_past]) * alpha[0]).mean(dim=1)[valid_idx]\n",
    "            # print(pred_exp_feat)\n",
    "            residue_exp = (sim_val - (sim_feat * alpha).mean(dim=2)).mean(dim=0)[valid_idx]\n",
    "            combo_exp = pred_exp_feat + residue_exp\n",
    "\n",
    "\n",
    "            \n",
    "            true_exp_feat = (true_feat.mean(dim=0) * alpha[0]).mean(dim=1)[valid_idx]\n",
    "            true_exp_residue = true_exp - true_exp_feat \n",
    "            \n",
    "            err_sim.append(sim_exp - true_exp)\n",
    "            err_combo.append(combo_exp - true_exp)\n",
    "            err_feat.append(pred_exp_feat - true_exp_feat)\n",
    "            \n",
    "            arr_residue.append(residue_exp)\n",
    "            arr_pred.append(pred_exp_feat)\n",
    "            arr_sim.append(sim_exp)\n",
    "            arr_pred_true.append(true_exp_feat)\n",
    "            arr_residue_true.append(true_exp_residue)\n",
    "            arr_exp_true.append(true_exp)\n",
    "    message(idx)\n",
    "    global_iteration += 1\n",
    "    # break\n"
   ]
  },
  {
   "cell_type": "code",
   "execution_count": null,
   "metadata": {},
   "outputs": [],
   "source": [
    "print(true_feat.shape)"
   ]
  },
  {
   "cell_type": "code",
   "execution_count": null,
   "metadata": {},
   "outputs": [],
   "source": [
    "err_sim = torch.cat(err_sim).cpu().numpy()\n",
    "err_combo = torch.cat(err_combo).cpu().numpy()\n",
    "err_feat = torch.cat(err_feat).cpu().numpy()"
   ]
  },
  {
   "cell_type": "code",
   "execution_count": null,
   "metadata": {},
   "outputs": [],
   "source": [
    "arr_residue = torch.cat(arr_residue).cpu().numpy()\n",
    "arr_pred = torch.cat(arr_pred).cpu().numpy()\n",
    "arr_pred_true = torch.cat(arr_pred_true).cpu().numpy()\n",
    "arr_sim = torch.cat(arr_sim).cpu().numpy()\n",
    "arr_residue_true = torch.cat(arr_residue_true).cpu().numpy()\n",
    "arr_exp_true = torch.cat(arr_exp_true).cpu().numpy()"
   ]
  },
  {
   "cell_type": "code",
   "execution_count": 30,
   "metadata": {},
   "outputs": [],
   "source": [
    "arr_combo_clipped = (arr_pred + arr_residue).clip(0, 1)"
   ]
  },
  {
   "cell_type": "code",
   "execution_count": 33,
   "metadata": {},
   "outputs": [
    {
     "name": "stdout",
     "output_type": "stream",
     "text": [
      "0.35050574 0.38502246\n",
      "0.4280135 0.46620408\n"
     ]
    }
   ],
   "source": [
    "print(np.mean(np.square(err_sim)), np.mean(np.square(arr_combo_clipped - arr_exp_true)))\n",
    "print(np.mean(np.abs(err_sim)), np.mean(np.abs(err_combo)))"
   ]
  },
  {
   "cell_type": "code",
   "execution_count": null,
   "metadata": {},
   "outputs": [],
   "source": [
    "err_combo_alt = (arr_residue_true - arr_residue) + (arr_pred_true - arr_pred) \n",
    "err_pred = (arr_pred_true + arr_residue_true) - arr_pred"
   ]
  },
  {
   "cell_type": "code",
   "execution_count": 31,
   "metadata": {},
   "outputs": [
    {
     "data": {
      "image/png": "[encoded data removed]",
      "text/plain": [
       "<Figure size 432x288 with 1 Axes>"
      ]
     },
     "metadata": {
      "needs_background": "light"
     },
     "output_type": "display_data"
    }
   ],
   "source": [
    "# plt.xlim([-100, 100])\n",
    "plt.hist(err_sim, bins=20, alpha=0.5, color='b', label='simulated')\n",
    "plt.hist(arr_combo_clipped - arr_exp_true, bins=20, alpha=0.5, color='r', label='combo')\n",
    "# plt.hist(err_feat, bins=40, color='g', alpha=0.5, label='pred')\n",
    "# plt.hist(err_combo_alt, bins=40, alpha=0.5, color='g', label='')\n",
    "\n",
    "plt.legend()\n",
    "plt.show()"
   ]
  },
  {
   "cell_type": "code",
   "execution_count": null,
   "metadata": {},
   "outputs": [],
   "source": []
  },
  {
   "cell_type": "code",
   "execution_count": null,
   "metadata": {},
   "outputs": [],
   "source": []
  },
  {
   "cell_type": "code",
   "execution_count": null,
   "metadata": {},
   "outputs": [],
   "source": [
    "# plt.hist(arr_residue.cpu().numpy(), bins=20, alpha=0.5)\n",
    "plt.hist(arr_pred, bins=40, alpha=0.5, color='r')\n",
    "# plt.hist(arr_pred_true, bins=40, alpha=0.5, color='g')\n",
    "# plt.hist(arr_pred - arr_pred_true, bins=40, alpha=0.5, color='b')\n",
    "plt.hist(arr_residue, bins=40, alpha=0.5, color='m')\n",
    "# plt.hist(arr_exp_true, bins=40, alpha=0.5, color='c')\n",
    "plt.show()"
   ]
  },
  {
   "cell_type": "code",
   "execution_count": null,
   "metadata": {},
   "outputs": [],
   "source": []
  }
 ],
 "metadata": {
  "kernelspec": {
   "display_name": "Python 3",
   "language": "python",
   "name": "python3"
  },
  "language_info": {
   "codemirror_mode": {
    "name": "ipython",
    "version": 3
   },
   "file_extension": ".py",
   "mimetype": "text/x-python",
   "name": "python",
   "nbconvert_exporter": "python",
   "pygments_lexer": "ipython3",
   "version": "3.6.12"
  }
 },
 "nbformat": 4,
 "nbformat_minor": 4
}
